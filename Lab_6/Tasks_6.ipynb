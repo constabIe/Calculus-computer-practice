{
 "cells": [
  {
   "cell_type": "markdown",
   "metadata": {},
   "source": [
    "## Занятие 6\n",
    "## Математический анализ\n",
    "## Дифференцирование"
   ]
  },
  {
   "cell_type": "code",
   "execution_count": 1,
   "metadata": {
    "ExecuteTime": {
     "end_time": "2024-01-19T14:43:13.287818Z",
     "start_time": "2024-01-19T14:43:08.477674Z"
    }
   },
   "outputs": [],
   "source": [
    "import numpy as np\n",
    "import matplotlib.pyplot as plt\n",
    "import sympy\n",
    "from sympy import diff, solve, nsolve, solveset, latex, S, simplify, fraction, Intersection\n",
    "from sympy import sin as Sin\n",
    "from sympy.calculus.util import continuous_domain\n",
    "from IPython.display import display, Latex, Math\n",
    "%matplotlib inline\n",
    "\n",
    "from sympy import exp\n",
    "from sympy.abc import x, y, z\n",
    "from math import e"
   ]
  },
  {
   "cell_type": "markdown",
   "metadata": {
    "collapsed": false
   },
   "source": [
    "## Схема анализа функции.\n",
    "1. Область определения\n",
    "\n",
    "2. Четность\n",
    "\n",
    "3. Периодичность\n",
    "\n",
    "4. Точки пересечения с осями координат\n",
    "\n",
    "5. Точки экстремума\n",
    "\n",
    "6. Точки перегиба\n",
    "\n",
    "7. Асимптоты\n",
    "\n",
    "8. График"
   ]
  },
  {
   "cell_type": "code",
   "execution_count": 2,
   "metadata": {
    "ExecuteTime": {
     "end_time": "2024-01-19T14:43:13.340638Z",
     "start_time": "2024-01-19T14:43:13.305533Z"
    }
   },
   "outputs": [],
   "source": [
    "# Объявления необходимых функций\n",
    "def printf(arr_x, arr_y):\n",
    "    txt = ''\n",
    "    \n",
    "    if len(arr_x) == 0:\n",
    "        txt = 'None'\n",
    "    else:\n",
    "        for i in range(len(arr_x)):\n",
    "            if i + 1 == len(arr_x):\n",
    "                txt += f'({latex(arr_x[i].evalf())},\\ {latex(arr_y[i].evalf())})'\n",
    "            else:\n",
    "                txt += f'({latex(arr_x[i].evalf())},\\ {latex(arr_y[i].evalf())}),\\ '\n",
    "                \n",
    "    return txt\n",
    "\n",
    "\n",
    "def isinflection(point_x, sec_diff):\n",
    "    if sec_diff.subs(x, point_x - 1) > 0 and sec_diff.subs(x, point_x + 1) < 0 or \\\n",
    "        sec_diff.subs(x, point_x - 1) < 0 and sec_diff.subs(x, point_x + 1) > 0:\n",
    "        return True\n",
    "    return False\n",
    "\n",
    "\n",
    "def func_parity():\n",
    "    txt = '2)\\ Четность:\\ '\n",
    "    if func(-x) == func(x):\n",
    "        txt += f'четная\\ функция'\n",
    "    elif func(-x) == -func(x):\n",
    "        txt += f'нечетная\\ функция'\n",
    "    else:\n",
    "        txt += f'функция\\ общего\\ вида'\n",
    "    return txt"
   ]
  },
  {
   "cell_type": "markdown",
   "metadata": {},
   "source": [
    "## Лабораторная работа 6\n",
    "## Математический анализ\n",
    "## Задание 1\n",
    "Исследовать функцию с помощью производной, найти необходимые пределы и решить уравнения.\n",
    "\n",
    "Построить график функции и асимптот, отметить и подписать точки экстремума и точки перегиба,\n",
    "включить функцию и асимптоты в легенду. \n",
    "$$\n",
    "y = x^2e^{-x}\n",
    "$$"
   ]
  },
  {
   "cell_type": "code",
   "execution_count": 3,
   "metadata": {
    "ExecuteTime": {
     "end_time": "2024-01-19T14:43:16.977641Z",
     "start_time": "2024-01-19T14:43:13.361529Z"
    }
   },
   "outputs": [
    {
     "data": {
      "text/plain": "<IPython.core.display.Latex object>",
      "text/latex": "$\\text{1) Область определения: } x \\in \\mathbb{R}$"
     },
     "metadata": {},
     "output_type": "display_data"
    },
    {
     "data": {
      "text/plain": "<IPython.core.display.Latex object>",
      "text/latex": "$\\text2)\\ Четность:\\ функция\\ общего\\ вида$"
     },
     "metadata": {},
     "output_type": "display_data"
    },
    {
     "data": {
      "text/plain": "<IPython.core.display.Latex object>",
      "text/latex": "$\\text{3) Периодичность: нет периода}$"
     },
     "metadata": {},
     "output_type": "display_data"
    },
    {
     "data": {
      "text/plain": "<IPython.core.display.Latex object>",
      "text/latex": "$\\text{4) Точки пересечения с осями координат: } (0,\\ 0)$"
     },
     "metadata": {},
     "output_type": "display_data"
    },
    {
     "data": {
      "text/plain": "<IPython.core.display.Latex object>",
      "text/latex": "$\\text{5) Точки экстремумов: } (0,\\ 0),\\ (2.0,\\ 0.541341132946451)$"
     },
     "metadata": {},
     "output_type": "display_data"
    },
    {
     "data": {
      "text/plain": "<IPython.core.display.Latex object>",
      "text/latex": "$\\text{6) Точки перегиба: } (0.585786437626905,\\ 0.191018226056977),\\ (3.41421356237309,\\ 0.383536990512539)$"
     },
     "metadata": {},
     "output_type": "display_data"
    },
    {
     "data": {
      "text/plain": "<IPython.core.display.Latex object>",
      "text/latex": "$\\text{7) Асимптоты}$"
     },
     "metadata": {},
     "output_type": "display_data"
    },
    {
     "data": {
      "text/plain": "<IPython.core.display.Latex object>",
      "text/latex": "$\\ \\ \\ \\ \\text{Вертикальные: } x \\in \\mathbb{R} \\Rightarrow \\text{нет веритикальных асимптот}$"
     },
     "metadata": {},
     "output_type": "display_data"
    },
    {
     "data": {
      "text/plain": "<IPython.core.display.Latex object>",
      "text/latex": "$\\ \\ \\ \\ \\text{Горизонтальные/наклонные: y = } 0$"
     },
     "metadata": {},
     "output_type": "display_data"
    },
    {
     "data": {
      "text/plain": "<IPython.core.display.Latex object>",
      "text/latex": "$\\text{8) График:}$"
     },
     "metadata": {},
     "output_type": "display_data"
    },
    {
     "data": {
      "text/plain": "<matplotlib.legend.Legend at 0x1247af750>"
     },
     "execution_count": 3,
     "metadata": {},
     "output_type": "execute_result"
    },
    {
     "data": {
      "text/plain": "<Figure size 640x480 with 1 Axes>",
      "image/png": "[encoded data removed]"
     },
     "metadata": {},
     "output_type": "display_data"
    }
   ],
   "source": [
    "def func(x, lib='sympy'):\n",
    "    if lib == 'sympy':\n",
    "        return x ** 2 * exp(-x)\n",
    "    elif lib == 'np':\n",
    "        return x ** 2 * np.exp(-x)\n",
    "    else:\n",
    "        return 'error'\n",
    "\n",
    "\n",
    "# 1)\n",
    "D = continuous_domain(func(x), x, S.Reals)\n",
    "display(Latex(fr'$\\text{{1) Область определения: }} x \\in {latex(D)}$'))\n",
    "\n",
    "# 2)\n",
    "display(Latex(fr'$\\text{func_parity()}$'))\n",
    "\n",
    "# 3)\n",
    "display(Latex(fr'$\\text{{3) Периодичность: нет периода}}$'))\n",
    "\n",
    "# 4)\n",
    "insections_x = solve(func(x), x)\n",
    "insections_y = [func(x) for x in insections_x]\n",
    "txt = printf(insections_x, insections_y)\n",
    "display(Latex(fr'$\\text{{4) Точки пересечения с осями координат: }} {txt}$'))\n",
    "\n",
    "# 5)\n",
    "extremes_x = solve(func(x).diff(x, 1), x, rational=False)\n",
    "extremes_y = [func(x) for x in extremes_x]\n",
    "txt = printf(extremes_x, extremes_y)\n",
    "display(Latex(fr'$\\text{{5) Точки экстремумов: }} {txt}$'))\n",
    "\n",
    "# 6)\n",
    "inflections_x = solve(func(x).diff(x, 2), x)\n",
    "inflections_y = []\n",
    "for x_coord in inflections_x:\n",
    "    if isinflection(x_coord, func(x).diff(x, 2)):\n",
    "        inflections_y.append(func(x_coord))\n",
    "if len(inflections_y) == 0:\n",
    "    display(Latex(fr'$\\text{{6) Точки перегиба: нет точек перегиба}}$'))\n",
    "else:\n",
    "    txt = printf(inflections_x, inflections_y)\n",
    "    display(Latex(fr'$\\text{{6) Точки перегиба: }} {txt}$'))\n",
    "\n",
    "# 7)\n",
    "display(Latex(fr'$\\text{{7) Асимптоты}}$'))\n",
    "## Вертикальные\n",
    "display(Latex(fr'$\\ \\ \\ \\ \\text{{Вертикальные: }} x \\in {latex(D)} \\Rightarrow \\text{{нет веритикальных асимптот}}$'))\n",
    "## Горизонтальные/наклонные\n",
    "k_lim_pos = sympy.limit(func(x)/x, x, +sympy.oo)\n",
    "k_lim_neg = sympy.limit(func(x)/x, x, -sympy.oo)\n",
    "k = k_lim_pos # т.к. k_lim_neg = -$\\infty$\n",
    "b = sympy.limit(func(x) - k * x, x, sympy.oo)\n",
    "asymp_y = k * x + b\n",
    "display(Latex(fr'$\\ \\ \\ \\ \\text{{Горизонтальные/наклонные: y = }} {latex(asymp_y)}$'))\n",
    "\n",
    "# 8)\n",
    "display(Latex(fr'$\\text{{8) График:}}$'))\n",
    "\n",
    "ax = plt.gca()\n",
    "ax.spines['right'].set_color('none')\n",
    "ax.spines['top'].set_color('none')\n",
    "ax.spines['bottom'].set_position(('data', 0))\n",
    "ax.spines['left'].set_position(('data', 0))\n",
    "ax.spines['bottom'].set_color('none')\n",
    "ax.plot(1, 0, \">k\", transform=ax.get_yaxis_transform(), clip_on=False) \n",
    "ax.plot(0, 1, \"^k\", transform=ax.get_xaxis_transform(), clip_on=False)\n",
    "\n",
    "\n",
    "X = np.linspace(-10, 10, 1000)\n",
    "ax.plot(X, func(X, lib='np'), color='black', label=r'$f(x) = ' + latex(func(x)) + r'$')\n",
    "ax.set(xlim=(-3,10), ylim=(-5, 10))\n",
    "\n",
    "ax.plot([X[0], X[-1]], [asymp_y.subs(x, X[0]), asymp_y.subs(x, X[-1])], 'g--', label=r'$asymp_y = ' + latex(asymp_y) + r'$')\n",
    "\n",
    "ax.scatter(extremes_x, extremes_y, label='Extremes')\n",
    "for i, x_coord in enumerate(extremes_x):\n",
    "    ax.annotate(r'$\\left(' + latex(x_coord) + r', ' + latex(extremes_y[i]) + r'\\right)$', \n",
    "               xy=(x_coord, extremes_y[i]), xycoords='data', xytext=(x_coord + 0.2, extremes_y[i] + 1),\n",
    "               arrowprops=dict(arrowstyle=\"->\", connectionstyle=\"arc3,rad=.2\"))\n",
    "    \n",
    "ax.scatter(inflections_x, inflections_y, label='Inflections')\n",
    "for i, x_coord in enumerate(inflections_x):\n",
    "    ax.annotate(r'$\\left(' + latex(x_coord) + r', ' + latex(inflections_y[i]) + r'\\right)$', \n",
    "               xy=(x_coord, inflections_y[i]), xycoords='data', xytext=(x_coord + 0.2, inflections_y[i] - 2),\n",
    "               arrowprops=dict(arrowstyle=\"->\", connectionstyle=\"arc3,rad=.2\"), fontsize=9)\n",
    "\n",
    "ax.legend(loc='upper right')\n",
    "\n"
   ]
  },
  {
   "cell_type": "markdown",
   "metadata": {},
   "source": [
    "## Задание 2\n",
    "Исследовать функцию с помощью производной, найти необходимые пределы и решить уравнения.\n",
    "\n",
    "Построить график функции и асимптот, отметить и подписать точки экстремума и точки перегиба,\n",
    "включить функцию и асимптоты в легенду. \n",
    "$$\n",
    "y=xe^{2/x} + 1 \n",
    "$$"
   ]
  },
  {
   "cell_type": "code",
   "execution_count": 4,
   "metadata": {
    "ExecuteTime": {
     "end_time": "2024-01-19T14:43:19.358615Z",
     "start_time": "2024-01-19T14:43:16.965722Z"
    }
   },
   "outputs": [
    {
     "data": {
      "text/plain": "<IPython.core.display.Latex object>",
      "text/latex": "$\\text{1) Область определения: } x \\in \\left(-\\infty, 0\\right) \\cup \\left(0, \\infty\\right)$"
     },
     "metadata": {},
     "output_type": "display_data"
    },
    {
     "data": {
      "text/plain": "<IPython.core.display.Latex object>",
      "text/latex": "$\\text2)\\ Четность:\\ функция\\ общего\\ вида$"
     },
     "metadata": {},
     "output_type": "display_data"
    },
    {
     "data": {
      "text/plain": "<IPython.core.display.Latex object>",
      "text/latex": "$\\text{3) Периодичность: нет периода}$"
     },
     "metadata": {},
     "output_type": "display_data"
    },
    {
     "data": {
      "text/plain": "<IPython.core.display.Latex object>",
      "text/latex": "$\\text{4) Точки пересечения с осями координат: } f(x) \\neq 0 \\Rightarrow \\text{нет перчесчений с осями}$"
     },
     "metadata": {},
     "output_type": "display_data"
    },
    {
     "data": {
      "text/plain": "<IPython.core.display.Latex object>",
      "text/latex": "$\\text{5) Точки экстремумов: } (2.0,\\ 6.43656365691809)$"
     },
     "metadata": {},
     "output_type": "display_data"
    },
    {
     "data": {
      "text/plain": "<IPython.core.display.Latex object>",
      "text/latex": "$\\text{6) Точки перегиба: } None$"
     },
     "metadata": {},
     "output_type": "display_data"
    },
    {
     "data": {
      "text/plain": "<IPython.core.display.Latex object>",
      "text/latex": "$\\text{7) Асимптоты}$"
     },
     "metadata": {},
     "output_type": "display_data"
    },
    {
     "data": {
      "text/plain": "<IPython.core.display.Latex object>",
      "text/latex": "$\\ \\ \\ \\ \\text{Вертикальные: x = 0} $"
     },
     "metadata": {},
     "output_type": "display_data"
    },
    {
     "data": {
      "text/plain": "<IPython.core.display.Latex object>",
      "text/latex": "$\\ \\ \\ \\ \\text{Горизонтальные/наклонные: y = } x + 3$"
     },
     "metadata": {},
     "output_type": "display_data"
    },
    {
     "data": {
      "text/plain": "<IPython.core.display.Latex object>",
      "text/latex": "$\\text{8) График:}$"
     },
     "metadata": {},
     "output_type": "display_data"
    },
    {
     "data": {
      "text/plain": "<matplotlib.legend.Legend at 0x1249a8dd0>"
     },
     "execution_count": 4,
     "metadata": {},
     "output_type": "execute_result"
    },
    {
     "data": {
      "text/plain": "<Figure size 640x480 with 1 Axes>",
      "image/png": "[encoded data removed]"
     },
     "metadata": {},
     "output_type": "display_data"
    }
   ],
   "source": [
    "def func(x, lib='sympy'):\n",
    "    if lib == 'sympy':\n",
    "        return x * exp(2/x) + 1\n",
    "    elif lib == 'np':\n",
    "        return x * np.exp(2/x) + 1\n",
    "    else:\n",
    "        return 'error'\n",
    "        \n",
    "\n",
    "# 1)\n",
    "D = continuous_domain(func(x), x, S.Reals)\n",
    "display(Latex(fr'$\\text{{1) Область определения: }} x \\in {latex(D)}$'))\n",
    "\n",
    "# 2)\n",
    "display(Latex(fr'$\\text{func_parity()}$'))\n",
    "\n",
    "# 3)\n",
    "display(Latex(fr'$\\text{{3) Периодичность: нет периода}}$'))\n",
    "\n",
    "# 4)\n",
    "display(Latex(fr'$\\text{{4) Точки пересечения с осями координат: }} f(x) \\neq 0 \\Rightarrow \\text{{нет перчесчений с осями}}$'))\n",
    "\n",
    "# 5)\n",
    "extremes_x = solve(func(x).diff(x, 1), x)\n",
    "extremes_y = [func(x) for x in extremes_x]\n",
    "txt = printf(extremes_x, extremes_y)\n",
    "display(Latex(fr'$\\text{{5) Точки экстремумов: }} {txt}$'))\n",
    "\n",
    "# 6)\n",
    "inflections_x = solve(func(x).diff(x, 2), x)\n",
    "inflections_y = []\n",
    "for x_coord in inflections_x:\n",
    "    if isinflection(x_coord, func(x).diff(x, 2)):\n",
    "        inflections_y.append(func(x_coord))\n",
    "txt = printf(inflections_x, inflections_y)\n",
    "display(Latex(fr'$\\text{{6) Точки перегиба: }} {txt}$'))\n",
    "\n",
    "# 7)\n",
    "display(Latex(fr'$\\text{{7) Асимптоты}}$'))\n",
    "## Вертикальные\n",
    "vert_lim_pos = sympy.limit(func(x), x, 0, '+')\n",
    "vert_lim_neg = sympy.limit(func(x), x, 0, '-')\n",
    "# display(vert_lim_pos, vert_lim_neg)\n",
    "asymp_x = 0\n",
    "display(Latex(fr'$\\ \\ \\ \\ \\text{{Вертикальные: x = 0}} $'))\n",
    "## Горизонтальные/наклонные\n",
    "k_lim_pos = sympy.limit(func(x)/x, x, +sympy.oo)\n",
    "k_lim_neg = sympy.limit(func(x)/x, x, -sympy.oo)\n",
    "k = k_lim_pos\n",
    "b = sympy.limit(func(x) - k * x, x, sympy.oo)\n",
    "asymp_y = k * x + b\n",
    "display(Latex(fr'$\\ \\ \\ \\ \\text{{Горизонтальные/наклонные: y = }} {latex(asymp_y)}$'))\n",
    "\n",
    "# 8)\n",
    "display(Latex(fr'$\\text{{8) График:}}$'))\n",
    "\n",
    "ax = plt.gca()\n",
    "ax.spines['right'].set_color('none')\n",
    "ax.spines['top'].set_color('none')\n",
    "ax.spines['bottom'].set_position(('data', 0))\n",
    "ax.spines['left'].set_position(('data', 0))\n",
    "ax.spines['left'].set_color('none')\n",
    "ax.plot(1, 0, \">k\", transform=ax.get_yaxis_transform(), clip_on=False) \n",
    "ax.plot(0, 1, \"^k\", transform=ax.get_xaxis_transform(), clip_on=False)\n",
    "\n",
    "\n",
    "X1 = np.linspace(-20, -0.01, 1499)\n",
    "X2 = np.linspace(0.01, 20, 1499)\n",
    "ax.plot(X1, func(X1, lib='np'), color='black', label=r'$f(x) = ' + latex(func(x)) + r'$')\n",
    "ax.plot(X2, func(X2, lib='np'), color='black')\n",
    "ax.set(xlim=(-20,20), ylim=(-20, 20))\n",
    "\n",
    "ax.plot([X1[0], X2[-1]], [asymp_y.subs(x, X1[0]), asymp_y.subs(x, X2[-1])], 'r--', label=r'$asymp_y = ' + latex(asymp_y) + r'$')\n",
    "ax.axvline(x=asymp_x, color='green', linestyle='--', label=r'$asymp_x = ' + latex(asymp_x) + r'$')\n",
    "ax.scatter(extremes_x, extremes_y, label='Extremes')\n",
    "ax.annotate(r'$\\left(' + latex(extremes_x[0]) + r', ' + latex(extremes_y[0]) + r'\\right)$', xy=(extremes_x[0], extremes_y[0]), xycoords='data', xytext=(extremes_x[0] + 1, extremes_y[0] -2 ))\n",
    "ax.legend(loc='upper left')"
   ]
  },
  {
   "cell_type": "markdown",
   "metadata": {},
   "source": [
    "## Индивидуальное задание\n",
    "Исследовать функцию с помощью производной, найти необходимые пределы и решить уравнения.\n",
    "\n",
    "Построить график функции и асимптот (если есть), отметить и подписать точки экстремума и точки перегиба (если есть),\n",
    "включить функцию и асимптоты (если есть) в легенду. "
   ]
  },
  {
   "cell_type": "markdown",
   "metadata": {
    "collapsed": false
   },
   "source": [
    "Вариант $98$\n",
    "\n",
    "\n",
    "$$f(x) = \\frac{4 x - 15}{4 x - 9}$$\n"
   ]
  },
  {
   "cell_type": "code",
   "execution_count": 5,
   "metadata": {
    "ExecuteTime": {
     "end_time": "2024-01-19T14:43:21.211467Z",
     "start_time": "2024-01-19T14:43:19.379081Z"
    }
   },
   "outputs": [
    {
     "data": {
      "text/plain": "<IPython.core.display.Latex object>",
      "text/latex": "$\\text{1) Область определения: x} \\in \\left(-\\infty, \\frac{9}{4}\\right) \\cup \\left(\\frac{9}{4}, \\infty\\right)$"
     },
     "metadata": {},
     "output_type": "display_data"
    },
    {
     "data": {
      "text/plain": "<IPython.core.display.Latex object>",
      "text/latex": "$\\text2)\\ Четность:\\ функция\\ общего\\ вида$"
     },
     "metadata": {},
     "output_type": "display_data"
    },
    {
     "data": {
      "text/plain": "<IPython.core.display.Latex object>",
      "text/latex": "$\\text{3) Периодичность: нет периода}$"
     },
     "metadata": {},
     "output_type": "display_data"
    },
    {
     "data": {
      "text/plain": "<IPython.core.display.Latex object>",
      "text/latex": "$\\text{4) Точки пересечения с осями координат: } (3.75,\\ 0)$"
     },
     "metadata": {},
     "output_type": "display_data"
    },
    {
     "data": {
      "text/plain": "<IPython.core.display.Latex object>",
      "text/latex": "$\\text{5) Точки экстремумов: } None$"
     },
     "metadata": {},
     "output_type": "display_data"
    },
    {
     "data": {
      "text/plain": "<IPython.core.display.Latex object>",
      "text/latex": "$\\text{6) Точки перегиба: } None$"
     },
     "metadata": {},
     "output_type": "display_data"
    },
    {
     "data": {
      "text/plain": "<IPython.core.display.Latex object>",
      "text/latex": "$\\text{7) Асимптоты:}$"
     },
     "metadata": {},
     "output_type": "display_data"
    },
    {
     "data": {
      "text/plain": "<IPython.core.display.Latex object>",
      "text/latex": "$\\ \\ \\ \\ \\text{Вертикальные: односторонние пределы бесконечны}\\Rightarrow x = \\frac{9}{4} \\text{ — вертикальная асимптота}$"
     },
     "metadata": {},
     "output_type": "display_data"
    },
    {
     "data": {
      "text/plain": "<IPython.core.display.Latex object>",
      "text/latex": "$\\ \\ \\ \\ \\text{Горизонтальные/наклонные: y = } 1$"
     },
     "metadata": {},
     "output_type": "display_data"
    },
    {
     "data": {
      "text/plain": "<IPython.core.display.Latex object>",
      "text/latex": "$\\text{8) График:}$"
     },
     "metadata": {},
     "output_type": "display_data"
    },
    {
     "data": {
      "text/plain": "<matplotlib.legend.Legend at 0x124b023d0>"
     },
     "execution_count": 5,
     "metadata": {},
     "output_type": "execute_result"
    },
    {
     "data": {
      "text/plain": "<Figure size 640x480 with 1 Axes>",
      "image/png": "[encoded data removed]"
     },
     "metadata": {},
     "output_type": "display_data"
    }
   ],
   "source": [
    "def func(x):\n",
    "    return (4 * x - 15) / (4 * x - 9)\n",
    "\n",
    "\n",
    "# 1)\n",
    "D = continuous_domain(func(x), x, S.Reals)\n",
    "display(Latex(fr'$\\text{{1) Область определения: x}} \\in {latex(D)}$'))\n",
    "\n",
    "# 2)\n",
    "display(Latex(fr'$\\text{func_parity()}$'))\n",
    "\n",
    "# 3)\n",
    "display(Latex(fr'$\\text{{3) Периодичность: нет периода}}$'))\n",
    "\n",
    "# 4)\n",
    "intersection_x = solve(func(x), x)\n",
    "intersection_y = [func(x) for x in intersection_x]\n",
    "txt = printf(intersection_x, intersection_y)\n",
    "display(Latex(fr'$\\text{{4) Точки пересечения с осями координат: }} {txt}$'))\n",
    "\n",
    "# 5)\n",
    "extremes_y = solve(func(x).diff(x, 1), x)\n",
    "extremes_x = [func(x) for x in extremes_y]\n",
    "txt = printf(extremes_x, extremes_y)\n",
    "display(Latex(fr'$\\text{{5) Точки экстремумов: }} {txt}$'))\n",
    "\n",
    "# 6)\n",
    "inflections_x = solve(func(x).diff(x, 2), x)\n",
    "inflections_y = []\n",
    "for x_coord in inflections_x:\n",
    "    if isinflection(x_coord, func(x).diff(x, 2)):\n",
    "        inflections_y.append(func(x_coord))\n",
    "txt = printf(inflections_x, inflections_y)\n",
    "display(Latex(fr'$\\text{{6) Точки перегиба: }} {txt}$'))\n",
    "\n",
    "# 7)\n",
    "display(Latex(fr'$\\text{{7) Асимптоты:}}$'))\n",
    "## Вертикальные\n",
    "lim_pos = sympy.limit(func(x), x, S(9)/4, '+')\n",
    "lim_neg = sympy.limit(func(x), x, S(9)/4, '-')\n",
    "asymp_x = S(9)/4\n",
    "display(Latex(fr'$\\ \\ \\ \\ \\text{{Вертикальные: односторонние пределы бесконечны}}\\Rightarrow x = {latex(asymp_x)} \\text{{ — вертикальная асимптота}}$'))\n",
    "## Горизонтальные/наклонные\n",
    "k_lim_pos = sympy.limit(func(x)/x, x, +sympy.oo)\n",
    "k_lim_neg = sympy.limit(func(x)/x, x, -sympy.oo)\n",
    "k = k_lim_pos\n",
    "b = sympy.limit(func(x) - k * x, x, sympy.oo)\n",
    "asymp_y = k * x + b\n",
    "display(Latex(fr'$\\ \\ \\ \\ \\text{{Горизонтальные/наклонные: y = }} {latex(asymp_y)}$'))\n",
    "\n",
    "# 8)\n",
    "display(Latex(fr'$\\text{{8) График:}}$'))\n",
    "\n",
    "ax = plt.gca()\n",
    "ax.spines['right'].set_color('none')\n",
    "ax.spines['top'].set_color('none')\n",
    "ax.spines['bottom'].set_position(('data', 0))\n",
    "ax.spines['left'].set_position(('data', 0))\n",
    "ax.plot(1, 0, \">k\", transform=ax.get_yaxis_transform(), clip_on=False) \n",
    "ax.plot(0, 1, \"^k\", transform=ax.get_xaxis_transform(), clip_on=False)\n",
    "\n",
    "X_left = np.linspace(-3, 2.24, 999)\n",
    "X_right = np.linspace(2.26, 6, 999)\n",
    "ax.plot(X_left, func(X_left), color='black', label=r'$f(x) = ' + latex(func(x)) + r'$')\n",
    "ax.plot(X_right, func(X_right), color='black')\n",
    "\n",
    "ax.set(ylim=(-35, 35), xlim=(-2, 6))\n",
    "\n",
    "ax.plot([X_left[0], X_right[-1]], [asymp_y.subs(x, X_left[0]), asymp_y.subs(x, X_right[-1])], 'r--', label=r'$asymp_y = ' + latex(asymp_y) + r'$')\n",
    "ax.axvline(x=asymp_x, color='green', linestyle='--', label=r'$asymp_x = ' + latex(asymp_x) + r'$')\n",
    "ax.legend(loc='best')\n"
   ]
  }
 ],
 "metadata": {
  "kernelspec": {
   "display_name": "Python 3 (ipykernel)",
   "language": "python",
   "name": "python3"
  },
  "language_info": {
   "codemirror_mode": {
    "name": "ipython",
    "version": 3
   },
   "file_extension": ".py",
   "mimetype": "text/x-python",
   "name": "python",
   "nbconvert_exporter": "python",
   "pygments_lexer": "ipython3",
   "version": "3.11.5"
  }
 },
 "nbformat": 4,
 "nbformat_minor": 4
}
