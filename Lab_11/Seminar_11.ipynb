{
 "cells": [
  {
   "cell_type": "code",
   "execution_count": 6,
   "metadata": {
    "ExecuteTime": {
     "end_time": "2024-02-18T05:59:37.848862Z",
     "start_time": "2024-02-18T05:59:37.391809Z"
    }
   },
   "outputs": [],
   "source": [
    "import sympy\n",
    "from sympy import S, Symbol, symbols, Function, integrate, diff, Curve\n",
    "from sympy import sin as Sin\n",
    "from sympy import cos as Cos\n",
    "from sympy import pi as Pi"
   ]
  },
  {
   "cell_type": "markdown",
   "metadata": {},
   "source": [
    "## Занятие 11\n",
    "## Математический анализ\n",
    "## Применение интегралов для вычисления площади фигуры и длины дуги \n",
    "### Площадь плоской фигуры, ограниченной снизу осью ОХ, сверху параметрически заданной кривой\n",
    "$x=\\phi(t)$, $y=\\psi(t)$, $\\phi(\\alpha)=a$, $\\phi(\\beta)=b$, $\\alpha\\le t\\le\\beta$\n",
    "$$\n",
    "S=\\int_\\alpha^\\beta \\psi(t)\\phi'(t)\\,dt\n",
    "$$\n",
    "\n",
    "\n",
    "### Пример 1.\n",
    "\n",
    "Окружность с центром в начале координат можно описать  как график параметрически заданной функции\n",
    "$x = \\cos(t)$, $y = \\sin(t)$, $0 \\le t\\le 2\\pi $.\n",
    "\n",
    "Вычислим площадь части круга с центром в начале координат, нахходящуюся в первой координатной четверти, в этом случае вычисляем площадь фигуры, ограниченной параметрически заданной кривой и осьюю ОХ при $0\\le t\\le\\frac\\pi 2$\n",
    "$$\n",
    "S = \\int\\limits_0^{\\frac\\pi 2} \\sin(t)(\\cos(t))'\\,dt = -\\int\\limits_0^\\frac\\pi 2 \\sin^2(t)\\,dt\n",
    "= -\\frac 1 2\\int\\limits_0^{\\frac\\pi 2 }(1 - \\cos(2t))\\,dt = -\\frac 1 2\\left(t - \\frac 1 2\\sin(2t)\\right)\\Big|_0{}^{\\frac\\pi 2}= -\\frac \\pi 4\n",
    "$$\n",
    "Площадь получилась отрицательной, поскольку при увеличении значения параметра $t$ уменьшаются значения $x$. В таком случае нужно поменять пределы интегрирования:\n",
    "$$\n",
    "S = \\int\\limits_{\\frac\\pi 2}^0 \\sin(t)(\\cos(t))'\\,dt = \\frac{\\pi}{4}\n",
    "$$\n",
    "\n",
    "Вообще же пределы интегрирования $\\alpha$ (внизу) и $\\beta$ (вверху) расставляются так, чтобы $\\phi(\\alpha) \\le \\phi(\\beta)$."
   ]
  },
  {
   "cell_type": "code",
   "execution_count": 7,
   "metadata": {
    "ExecuteTime": {
     "end_time": "2024-02-18T05:59:37.849536Z",
     "start_time": "2024-02-18T05:59:37.410382Z"
    }
   },
   "outputs": [
    {
     "data": {
      "text/plain": "pi/4",
      "text/latex": "$\\displaystyle \\frac{\\pi}{4}$"
     },
     "execution_count": 7,
     "metadata": {},
     "output_type": "execute_result"
    }
   ],
   "source": [
    "from sympy.abc import t\n",
    "(Sin(t)*Cos(t).diff(t)).integrate((t, Pi/2, 0))"
   ]
  },
  {
   "cell_type": "markdown",
   "metadata": {},
   "source": [
    "### Площадь плоской фигуры в полярных координатах\n",
    "Площадь фигуры, ограниченной лучами $\\phi = \\phi_1$ и $\\phi = \\phi_2$ и кривой \n",
    "$r = r(\\phi)$, $\\phi_1 \\le \\phi \\le \\phi_2$, вычисляется по формуле\n",
    "$$\n",
    "S = \\frac12\\int\\limits_{\\phi_1}^{\\phi_2}r^2(\\phi)\\,d\\phi.\n",
    "$$\n",
    "### Пример 2.\n",
    "Вычислим по этой формуле площадь четверти окружности как в примере 1, в этом случае\n",
    "фигура ограничена лучами $\\phi=0$ и $\\phi=\\pi/2$ и кривой $r=1$, поскольку все точки окружности находятся на расстоянии 1 от начала координат.\n",
    "$r = 1$, $0 \\le \\phi \\le \\pi/2$,\n",
    "$$\n",
    "S = \\frac12\\int\\limits_0^{\\pi/2}1\\,d\\phi = \\phi\\big|_0^\\frac\\pi 2 = \\frac{\\pi}{4}\n",
    "$$"
   ]
  },
  {
   "cell_type": "code",
   "execution_count": 8,
   "metadata": {
    "ExecuteTime": {
     "end_time": "2024-02-18T05:59:37.851741Z",
     "start_time": "2024-02-18T05:59:37.512704Z"
    }
   },
   "outputs": [
    {
     "data": {
      "text/plain": "pi/4",
      "text/latex": "$\\displaystyle \\frac{\\pi}{4}$"
     },
     "execution_count": 8,
     "metadata": {},
     "output_type": "execute_result"
    }
   ],
   "source": [
    "phi = S('phi')\n",
    "S(1)/2*integrate(1, (phi, 0, Pi/2))"
   ]
  },
  {
   "cell_type": "markdown",
   "metadata": {},
   "source": [
    "Применить объектно-ориентированный подход к функции, равной 1 не получится, но можно единицу сделать символом и проинтегрировать ее таким образом:"
   ]
  },
  {
   "cell_type": "code",
   "execution_count": 9,
   "metadata": {
    "ExecuteTime": {
     "end_time": "2024-02-18T05:59:37.852232Z",
     "start_time": "2024-02-18T05:59:37.567300Z"
    }
   },
   "outputs": [
    {
     "data": {
      "text/plain": "pi/2",
      "text/latex": "$\\displaystyle \\frac{\\pi}{2}$"
     },
     "execution_count": 9,
     "metadata": {},
     "output_type": "execute_result"
    }
   ],
   "source": [
    "S(1).integrate((phi, 0, Pi/2))"
   ]
  },
  {
   "cell_type": "markdown",
   "metadata": {},
   "source": [
    "### Длина дуги кривой $y = f(x)$, \n",
    "заключенной между точками с абсциссами $a$ и $b$\n",
    "$$\n",
    "l = \\int_a^b\\sqrt{1+(f'(x))^2}\\,dx\n",
    "$$\n",
    "### Пример 3.\n",
    "Все та же четверть окружности... $f(x) = \\sqrt{1 - x^2}$, $f'(x) = \\frac1{2\\sqrt{1 - x^2}}(-2x)$,\n",
    "$(f'(x))^2 = \\frac{4x^2}{4(1 - x^2)}=\\frac{x^2}{1 - x^2}$\n",
    "$l = \\int_0^1\\sqrt{1 + \\frac{x^2}{1-x^2}}\\,dx = \\int_0^1\\sqrt{\\frac1{1 - x^2}}\\,dx\n",
    "=\\int_0^1\\frac1{\\sqrt{1 - x^2}}\\,dx = \\arcsin x|_0^1 = \\frac\\pi2$"
   ]
  },
  {
   "cell_type": "code",
   "execution_count": 10,
   "metadata": {
    "ExecuteTime": {
     "end_time": "2024-02-18T05:59:38.065339Z",
     "start_time": "2024-02-18T05:59:37.584859Z"
    }
   },
   "outputs": [
    {
     "data": {
      "text/plain": "pi/2",
      "text/latex": "$\\displaystyle \\frac{\\pi}{2}$"
     },
     "execution_count": 10,
     "metadata": {},
     "output_type": "execute_result"
    }
   ],
   "source": [
    "from sympy.abc import x\n",
    "(1/((1 - x**2)**S.Half)).integrate((x, 0, 1))"
   ]
  },
  {
   "cell_type": "markdown",
   "metadata": {},
   "source": [
    "Можно провести более универсальные вычисления, используя абстрактную функцию"
   ]
  },
  {
   "cell_type": "code",
   "execution_count": 11,
   "metadata": {
    "ExecuteTime": {
     "end_time": "2024-02-18T05:59:42.871234Z",
     "start_time": "2024-02-18T05:59:37.917346Z"
    }
   },
   "outputs": [
    {
     "data": {
      "text/plain": "Eq(Integral(sqrt(Derivative(sqrt(1 - x**2), x)**2 + 1), (x, 0, 1)), pi/2)",
      "text/latex": "$\\displaystyle \\int\\limits_{0}^{1} \\sqrt{\\left(\\frac{d}{d x} \\sqrt{1 - x^{2}}\\right)^{2} + 1}\\, dx = \\frac{\\pi}{2}$"
     },
     "execution_count": 11,
     "metadata": {},
     "output_type": "execute_result"
    }
   ],
   "source": [
    "f = Function('f')\n",
    "from sympy.abc import a, b\n",
    "l = ((1+(f(x).diff(x))**2)**S.Half).integrate((x, a, b))\n",
    "l1 = l.subs({f(x): (1 - x**2)**S.Half, a: 0, b: 1})\n",
    "sympy.Eq(l1, l1.doit())"
   ]
  },
  {
   "cell_type": "markdown",
   "metadata": {},
   "source": [
    "### Длина дуги кривой, заданной параметрически\n",
    "$x=\\phi(t)$, $y=\\psi(t)$, $\\alpha\\le t\\le\\beta$, $\\dot{\\phi}^2(t)+\\dot{\\psi}^2(t)>0$\n",
    "$$\n",
    "l=\\int_\\alpha^\\beta\\sqrt{\\dot{\\phi}^2(t)+\\dot{\\psi}^2(t)}\\,dt\n",
    "$$\n",
    "\n",
    "\n",
    "### Пример 4. \n",
    "Вычислим длину верхней дуги окружности радиуса $R$ с центром в точке $(x_0, y_0)$:\n",
    "$$\n",
    "\\left\\{\n",
    "\\begin{matrix}\n",
    "x = x_0 + R\\cos(t)\\\\\n",
    "y = y_0 + R\\sin(t)\n",
    "\\end{matrix}\n",
    "\\right.\n",
    "\\qquad t \\in [0, \\pi]\n",
    "$$"
   ]
  },
  {
   "cell_type": "code",
   "execution_count": 12,
   "metadata": {
    "ExecuteTime": {
     "end_time": "2024-02-18T05:59:43.185232Z",
     "start_time": "2024-02-18T05:59:42.871941Z"
    }
   },
   "outputs": [
    {
     "data": {
      "text/plain": "pi*R",
      "text/latex": "$\\displaystyle \\pi R$"
     },
     "execution_count": 12,
     "metadata": {},
     "output_type": "execute_result"
    }
   ],
   "source": [
    "R, x0, y0 = symbols('R x0 y0', positive=True)\n",
    "phi = x0 + R*Cos(t)\n",
    "psi = y0 + R*Sin(t)\n",
    "((phi.diff(t)**2 + psi.diff(t)**2)**S.Half).integrate((t, 0, Pi))"
   ]
  },
  {
   "cell_type": "markdown",
   "metadata": {},
   "source": [
    "### Пример 5. \n",
    "Вычислить длину кривой, заданной параметрически $x = \\cos t + t\\sin t$, $y = \\sin t - t\\cos t$, $0 \\le t \\le T$."
   ]
  },
  {
   "cell_type": "code",
   "execution_count": 13,
   "metadata": {
    "ExecuteTime": {
     "end_time": "2024-02-18T05:59:43.460644Z",
     "start_time": "2024-02-18T05:59:43.183836Z"
    }
   },
   "outputs": [
    {
     "data": {
      "text/plain": "T**2*sqrt(sin(T)**2 + cos(T)**2)/2",
      "text/latex": "$\\displaystyle \\frac{T^{2} \\sqrt{\\sin^{2}{\\left(T \\right)} + \\cos^{2}{\\left(T \\right)}}}{2}$"
     },
     "execution_count": 13,
     "metadata": {},
     "output_type": "execute_result"
    }
   ],
   "source": [
    "t, T = symbols('t T', positive=True)\n",
    "x = Cos(t) + t*Sin(t)\n",
    "y = Sin(t) - t*Cos(t)\n",
    "res = ((x.diff(t)**2 + y.diff(t)**2)**S.Half).integrate((t, 0, T))\n",
    "res"
   ]
  },
  {
   "cell_type": "code",
   "execution_count": 14,
   "metadata": {
    "ExecuteTime": {
     "end_time": "2024-02-18T05:59:43.843369Z",
     "start_time": "2024-02-18T05:59:43.483727Z"
    }
   },
   "outputs": [
    {
     "data": {
      "text/plain": "T**2/2",
      "text/latex": "$\\displaystyle \\frac{T^{2}}{2}$"
     },
     "execution_count": 14,
     "metadata": {},
     "output_type": "execute_result"
    }
   ],
   "source": [
    "sympy.simplify(res)"
   ]
  },
  {
   "cell_type": "markdown",
   "metadata": {},
   "source": [
    "### Кривые: класс Curve в SymPy \n",
    "Взгляд под другим углом на задачу вычисления длины кривой.\n",
    "\n",
    "В SymPy есть класс кривых Curve, кривые описываются параметрическими уравнениями, параметр всегда один, поскольку кривая - одномерный объект. \n",
    "\n",
    "Аргументы Curve: tuple из выражений для координат x и y точек кривой и tuple из параметра и его начального и конечного значений.\n",
    " \n",
    "У кривых есть атрибут длина length, воспользуемся этим инструментом для вычисления длины полуокружности из Примера 4."
   ]
  },
  {
   "cell_type": "code",
   "execution_count": 19,
   "metadata": {
    "ExecuteTime": {
     "end_time": "2024-02-18T05:59:58.710804Z",
     "start_time": "2024-02-18T05:59:58.618994Z"
    }
   },
   "outputs": [
    {
     "data": {
      "text/plain": "0",
      "text/latex": "$\\displaystyle 0$"
     },
     "execution_count": 19,
     "metadata": {},
     "output_type": "execute_result"
    }
   ],
   "source": [
    "Curve((phi, psi), (t, 0, Pi)).length"
   ]
  },
  {
   "cell_type": "markdown",
   "metadata": {},
   "source": [
    "Этот способ работает и для кривой, заданной как $y=f(x)$.\n",
    "### Пример 6. \n",
    "Вычислим длину дуги параболы $y = x^2$ от $x = 0$ до $x = 2$:"
   ]
  },
  {
   "cell_type": "code",
   "execution_count": 18,
   "metadata": {
    "ExecuteTime": {
     "end_time": "2024-02-18T05:59:56.223932Z",
     "start_time": "2024-02-18T05:59:56.110249Z"
    }
   },
   "outputs": [
    {
     "ename": "ValueError",
     "evalue": "\nCan't calculate derivative wrt t*sin(t) + cos(t).",
     "output_type": "error",
     "traceback": [
      "\u001B[0;31m---------------------------------------------------------------------------\u001B[0m",
      "\u001B[0;31mValueError\u001B[0m                                Traceback (most recent call last)",
      "Cell \u001B[0;32mIn[18], line 1\u001B[0m\n\u001B[0;32m----> 1\u001B[0m Curve((x, x\u001B[38;5;241m*\u001B[39m\u001B[38;5;241m*\u001B[39m\u001B[38;5;241m2\u001B[39m), (x, \u001B[38;5;241m0\u001B[39m, \u001B[38;5;241m1\u001B[39m))\u001B[38;5;241m.\u001B[39mlength\n",
      "File \u001B[0;32m~/.conda/envs/CompPracs/lib/python3.11/site-packages/sympy/geometry/curve.py:300\u001B[0m, in \u001B[0;36mCurve.length\u001B[0;34m(self)\u001B[0m\n\u001B[1;32m    287\u001B[0m \u001B[38;5;129m@property\u001B[39m\n\u001B[1;32m    288\u001B[0m \u001B[38;5;28;01mdef\u001B[39;00m \u001B[38;5;21mlength\u001B[39m(\u001B[38;5;28mself\u001B[39m):\n\u001B[1;32m    289\u001B[0m \u001B[38;5;250m    \u001B[39m\u001B[38;5;124;03m\"\"\"The curve length.\u001B[39;00m\n\u001B[1;32m    290\u001B[0m \n\u001B[1;32m    291\u001B[0m \u001B[38;5;124;03m    Examples\u001B[39;00m\n\u001B[0;32m   (...)\u001B[0m\n\u001B[1;32m    298\u001B[0m \n\u001B[1;32m    299\u001B[0m \u001B[38;5;124;03m    \"\"\"\u001B[39;00m\n\u001B[0;32m--> 300\u001B[0m     integrand \u001B[38;5;241m=\u001B[39m sqrt(\u001B[38;5;28msum\u001B[39m(diff(func, \u001B[38;5;28mself\u001B[39m\u001B[38;5;241m.\u001B[39mlimits[\u001B[38;5;241m0\u001B[39m])\u001B[38;5;241m*\u001B[39m\u001B[38;5;241m*\u001B[39m\u001B[38;5;241m2\u001B[39m \u001B[38;5;28;01mfor\u001B[39;00m func \u001B[38;5;129;01min\u001B[39;00m \u001B[38;5;28mself\u001B[39m\u001B[38;5;241m.\u001B[39mfunctions))\n\u001B[1;32m    301\u001B[0m     \u001B[38;5;28;01mreturn\u001B[39;00m integrate(integrand, \u001B[38;5;28mself\u001B[39m\u001B[38;5;241m.\u001B[39mlimits)\n",
      "File \u001B[0;32m~/.conda/envs/CompPracs/lib/python3.11/site-packages/sympy/geometry/curve.py:300\u001B[0m, in \u001B[0;36m<genexpr>\u001B[0;34m(.0)\u001B[0m\n\u001B[1;32m    287\u001B[0m \u001B[38;5;129m@property\u001B[39m\n\u001B[1;32m    288\u001B[0m \u001B[38;5;28;01mdef\u001B[39;00m \u001B[38;5;21mlength\u001B[39m(\u001B[38;5;28mself\u001B[39m):\n\u001B[1;32m    289\u001B[0m \u001B[38;5;250m    \u001B[39m\u001B[38;5;124;03m\"\"\"The curve length.\u001B[39;00m\n\u001B[1;32m    290\u001B[0m \n\u001B[1;32m    291\u001B[0m \u001B[38;5;124;03m    Examples\u001B[39;00m\n\u001B[0;32m   (...)\u001B[0m\n\u001B[1;32m    298\u001B[0m \n\u001B[1;32m    299\u001B[0m \u001B[38;5;124;03m    \"\"\"\u001B[39;00m\n\u001B[0;32m--> 300\u001B[0m     integrand \u001B[38;5;241m=\u001B[39m sqrt(\u001B[38;5;28msum\u001B[39m(diff(func, \u001B[38;5;28mself\u001B[39m\u001B[38;5;241m.\u001B[39mlimits[\u001B[38;5;241m0\u001B[39m])\u001B[38;5;241m*\u001B[39m\u001B[38;5;241m*\u001B[39m\u001B[38;5;241m2\u001B[39m \u001B[38;5;28;01mfor\u001B[39;00m func \u001B[38;5;129;01min\u001B[39;00m \u001B[38;5;28mself\u001B[39m\u001B[38;5;241m.\u001B[39mfunctions))\n\u001B[1;32m    301\u001B[0m     \u001B[38;5;28;01mreturn\u001B[39;00m integrate(integrand, \u001B[38;5;28mself\u001B[39m\u001B[38;5;241m.\u001B[39mlimits)\n",
      "File \u001B[0;32m~/.conda/envs/CompPracs/lib/python3.11/site-packages/sympy/core/function.py:2482\u001B[0m, in \u001B[0;36mdiff\u001B[0;34m(f, *symbols, **kwargs)\u001B[0m\n\u001B[1;32m   2418\u001B[0m \u001B[38;5;250m\u001B[39m\u001B[38;5;124;03m\"\"\"\u001B[39;00m\n\u001B[1;32m   2419\u001B[0m \u001B[38;5;124;03mDifferentiate f with respect to symbols.\u001B[39;00m\n\u001B[1;32m   2420\u001B[0m \n\u001B[0;32m   (...)\u001B[0m\n\u001B[1;32m   2479\u001B[0m \n\u001B[1;32m   2480\u001B[0m \u001B[38;5;124;03m\"\"\"\u001B[39;00m\n\u001B[1;32m   2481\u001B[0m \u001B[38;5;28;01mif\u001B[39;00m \u001B[38;5;28mhasattr\u001B[39m(f, \u001B[38;5;124m'\u001B[39m\u001B[38;5;124mdiff\u001B[39m\u001B[38;5;124m'\u001B[39m):\n\u001B[0;32m-> 2482\u001B[0m     \u001B[38;5;28;01mreturn\u001B[39;00m f\u001B[38;5;241m.\u001B[39mdiff(\u001B[38;5;241m*\u001B[39msymbols, \u001B[38;5;241m*\u001B[39m\u001B[38;5;241m*\u001B[39mkwargs)\n\u001B[1;32m   2483\u001B[0m kwargs\u001B[38;5;241m.\u001B[39msetdefault(\u001B[38;5;124m'\u001B[39m\u001B[38;5;124mevaluate\u001B[39m\u001B[38;5;124m'\u001B[39m, \u001B[38;5;28;01mTrue\u001B[39;00m)\n\u001B[1;32m   2484\u001B[0m \u001B[38;5;28;01mreturn\u001B[39;00m _derivative_dispatch(f, \u001B[38;5;241m*\u001B[39msymbols, \u001B[38;5;241m*\u001B[39m\u001B[38;5;241m*\u001B[39mkwargs)\n",
      "File \u001B[0;32m~/.conda/envs/CompPracs/lib/python3.11/site-packages/sympy/core/expr.py:3586\u001B[0m, in \u001B[0;36mExpr.diff\u001B[0;34m(self, *symbols, **assumptions)\u001B[0m\n\u001B[1;32m   3584\u001B[0m \u001B[38;5;28;01mdef\u001B[39;00m \u001B[38;5;21mdiff\u001B[39m(\u001B[38;5;28mself\u001B[39m, \u001B[38;5;241m*\u001B[39msymbols, \u001B[38;5;241m*\u001B[39m\u001B[38;5;241m*\u001B[39massumptions):\n\u001B[1;32m   3585\u001B[0m     assumptions\u001B[38;5;241m.\u001B[39msetdefault(\u001B[38;5;124m\"\u001B[39m\u001B[38;5;124mevaluate\u001B[39m\u001B[38;5;124m\"\u001B[39m, \u001B[38;5;28;01mTrue\u001B[39;00m)\n\u001B[0;32m-> 3586\u001B[0m     \u001B[38;5;28;01mreturn\u001B[39;00m _derivative_dispatch(\u001B[38;5;28mself\u001B[39m, \u001B[38;5;241m*\u001B[39msymbols, \u001B[38;5;241m*\u001B[39m\u001B[38;5;241m*\u001B[39massumptions)\n",
      "File \u001B[0;32m~/.conda/envs/CompPracs/lib/python3.11/site-packages/sympy/core/function.py:1909\u001B[0m, in \u001B[0;36m_derivative_dispatch\u001B[0;34m(expr, *variables, **kwargs)\u001B[0m\n\u001B[1;32m   1907\u001B[0m     \u001B[38;5;28;01mfrom\u001B[39;00m \u001B[38;5;21;01msympy\u001B[39;00m\u001B[38;5;21;01m.\u001B[39;00m\u001B[38;5;21;01mtensor\u001B[39;00m\u001B[38;5;21;01m.\u001B[39;00m\u001B[38;5;21;01marray\u001B[39;00m\u001B[38;5;21;01m.\u001B[39;00m\u001B[38;5;21;01marray_derivatives\u001B[39;00m \u001B[38;5;28;01mimport\u001B[39;00m ArrayDerivative\n\u001B[1;32m   1908\u001B[0m     \u001B[38;5;28;01mreturn\u001B[39;00m ArrayDerivative(expr, \u001B[38;5;241m*\u001B[39mvariables, \u001B[38;5;241m*\u001B[39m\u001B[38;5;241m*\u001B[39mkwargs)\n\u001B[0;32m-> 1909\u001B[0m \u001B[38;5;28;01mreturn\u001B[39;00m Derivative(expr, \u001B[38;5;241m*\u001B[39mvariables, \u001B[38;5;241m*\u001B[39m\u001B[38;5;241m*\u001B[39mkwargs)\n",
      "File \u001B[0;32m~/.conda/envs/CompPracs/lib/python3.11/site-packages/sympy/core/function.py:1334\u001B[0m, in \u001B[0;36mDerivative.__new__\u001B[0;34m(cls, expr, *variables, **kwargs)\u001B[0m\n\u001B[1;32m   1332\u001B[0m     \u001B[38;5;28;01mif\u001B[39;00m \u001B[38;5;129;01mnot\u001B[39;00m v\u001B[38;5;241m.\u001B[39m_diff_wrt:\n\u001B[1;32m   1333\u001B[0m         __ \u001B[38;5;241m=\u001B[39m \u001B[38;5;124m'\u001B[39m\u001B[38;5;124m'\u001B[39m  \u001B[38;5;66;03m# filler to make error message neater\u001B[39;00m\n\u001B[0;32m-> 1334\u001B[0m         \u001B[38;5;28;01mraise\u001B[39;00m \u001B[38;5;167;01mValueError\u001B[39;00m(filldedent(\u001B[38;5;124m'''\u001B[39m\n\u001B[1;32m   1335\u001B[0m \u001B[38;5;124m            Can\u001B[39m\u001B[38;5;124m'\u001B[39m\u001B[38;5;124mt calculate derivative wrt \u001B[39m\u001B[38;5;132;01m%s\u001B[39;00m\u001B[38;5;124m.\u001B[39m\u001B[38;5;132;01m%s\u001B[39;00m\u001B[38;5;124m'''\u001B[39m \u001B[38;5;241m%\u001B[39m (v,\n\u001B[1;32m   1336\u001B[0m             __)))\n\u001B[1;32m   1338\u001B[0m \u001B[38;5;66;03m# We make a special case for 0th derivative, because there is no\u001B[39;00m\n\u001B[1;32m   1339\u001B[0m \u001B[38;5;66;03m# good way to unambiguously print this.\u001B[39;00m\n\u001B[1;32m   1340\u001B[0m \u001B[38;5;28;01mif\u001B[39;00m \u001B[38;5;28mlen\u001B[39m(variable_count) \u001B[38;5;241m==\u001B[39m \u001B[38;5;241m0\u001B[39m:\n",
      "\u001B[0;31mValueError\u001B[0m: \nCan't calculate derivative wrt t*sin(t) + cos(t)."
     ]
    }
   ],
   "source": [
    "Curve((x, x**2), (x, 0, 1)).length"
   ]
  },
  {
   "cell_type": "markdown",
   "metadata": {},
   "source": [
    "### Длина дуги кривой, заданной в полярных координатах\n",
    "Пусть кривая задана в полярной системе координат уравнением \n",
    "$r = r(\\phi)$, $r(\\phi)$ непрерывна при $\\phi_1 \\le \\phi \\le \\phi_2$.\n",
    "\n",
    "Длина такой кривой вычисляется по формуле\n",
    "$$\n",
    "l = \\int_{\\phi_1}^{\\phi_2}\\sqrt{r^2(\\phi) + (r'(\\phi))^2}\\,d\\phi.\n",
    "$$\n",
    "\n",
    "### Пример 7.\n",
    "Кривая задана в полярной системе координат уравнением $r=\\sin\\phi$, $0\\le\\phi\\le\\pi$, на этом интервале функция $\\sin\\phi$ неотрицательна, $r'=\\cos(\\phi)$:\n",
    "$$\n",
    "l = \\int_{0}^{\\pi}\\sqrt{\\sin^2\\phi+\\cos^2\\phi}\\,d\\phi = \\int_{0}^{\\pi}1\\,d\\phi = \\pi.\n",
    "$$\n"
   ]
  },
  {
   "cell_type": "code",
   "execution_count": 20,
   "metadata": {
    "ExecuteTime": {
     "end_time": "2024-02-18T06:00:02.526244Z",
     "start_time": "2024-02-18T06:00:02.389348Z"
    }
   },
   "outputs": [
    {
     "data": {
      "text/plain": "pi",
      "text/latex": "$\\displaystyle \\pi$"
     },
     "execution_count": 20,
     "metadata": {},
     "output_type": "execute_result"
    }
   ],
   "source": [
    "phi = S('phi')\n",
    "r = Sin(phi)\n",
    "((r**2 + r.diff(phi)**2)**S.Half).integrate((phi, 0, Pi))"
   ]
  },
  {
   "cell_type": "markdown",
   "metadata": {},
   "source": [
    "Приспособим класс кривых Curve к этой задаче, для этого заметим, что \n",
    "$$\n",
    "\\left\\{\n",
    "\\begin{matrix}\n",
    "x=r(\\phi)\\cos\\phi\\\\\n",
    "y=r(\\phi)\\sin\\phi\n",
    "\\end{matrix}\n",
    "\\right.\n",
    "$$"
   ]
  },
  {
   "cell_type": "code",
   "execution_count": 21,
   "metadata": {
    "ExecuteTime": {
     "end_time": "2024-02-18T06:00:05.312583Z",
     "start_time": "2024-02-18T06:00:05.137365Z"
    }
   },
   "outputs": [
    {
     "data": {
      "text/plain": "pi",
      "text/latex": "$\\displaystyle \\pi$"
     },
     "execution_count": 21,
     "metadata": {},
     "output_type": "execute_result"
    }
   ],
   "source": [
    "x = r*Sin(phi)\n",
    "y = r*Cos(phi)\n",
    "Curve((x, y), (phi, 0, Pi)).length"
   ]
  }
 ],
 "metadata": {
  "kernelspec": {
   "display_name": "Python 3",
   "language": "python",
   "name": "python3"
  },
  "language_info": {
   "codemirror_mode": {
    "name": "ipython",
    "version": 3
   },
   "file_extension": ".py",
   "mimetype": "text/x-python",
   "name": "python",
   "nbconvert_exporter": "python",
   "pygments_lexer": "ipython3",
   "version": "3.7.3"
  }
 },
 "nbformat": 4,
 "nbformat_minor": 2
}
