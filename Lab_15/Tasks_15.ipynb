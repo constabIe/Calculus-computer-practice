{
 "cells": [
  {
   "cell_type": "code",
   "execution_count": 1,
   "metadata": {
    "ExecuteTime": {
     "end_time": "2024-03-21T18:27:24.955831Z",
     "start_time": "2024-03-21T18:27:22.631090Z"
    }
   },
   "outputs": [],
   "source": [
    "import sympy as sp\n",
    "from sympy import S, Symbol, symbols, simplify, nonlinsolve, Matrix, diff, factor, latex, I, Interval\n",
    "\n",
    "from IPython.display import Latex, display"
   ]
  },
  {
   "cell_type": "code",
   "execution_count": 2,
   "outputs": [],
   "source": [
    "from sympy.abc import x, y, z\n",
    "from sympy.abc import lamda as varlambda\n",
    "\n",
    "dx, dy, dz = symbols('dx dy dz')"
   ],
   "metadata": {
    "collapsed": false,
    "ExecuteTime": {
     "end_time": "2024-03-21T18:27:25.018235Z",
     "start_time": "2024-03-21T18:27:24.970852Z"
    }
   }
  },
  {
   "cell_type": "markdown",
   "metadata": {},
   "source": [
    "## Занятие 15\n",
    "## Математический анализ\n",
    "## Экстремум функции нескольких переменных \n",
    "### Задание 1\n",
    "Найти точки экстремума:\n",
    "\n",
    "1) $z = x^2 + xy + y^2 - 2x - y$\n",
    "\n",
    "2) $z = x^3y^2(6 - x - y)$, $(x, y > 0)$\n",
    "\n",
    "3) $z = \\frac{8}{x} + \\frac{x}{y} + y$\n",
    "\n",
    "4) $z = \\frac{1 + x - y}{\\sqrt{1 + x^2 + y^2}}$\n",
    "###### Указание.\n",
    "Вначале найти стационарные точки. Составить определитель из вторых производных в произвольной точке. Подставляя найденные (вещественные) стационарные точки, решить вопрос о наличии экстремума."
   ]
  },
  {
   "cell_type": "markdown",
   "source": [
    "### Достаточные условия экстремума \n",
    "\n",
    "Пусть $P(a,b)$ - стационарная точка функции $f(x,y)$, т.е. $d\\,f(a,b)=0$. Обозначим \n",
    "$\\Delta=\\left|\\begin{matrix}f''_{xx}(a,b)&f''_{xy}(a,b)\\\\\n",
    "f''_{xy}(a,b)&f''_{yy}(a,b)\\end{matrix}\\right|$.\n",
    "Тогда\n",
    "\n",
    "1) если $\\Delta>0$, то функция $f(x,y)$ имеет экстремум в точке $P$,\n",
    "\n",
    "при $f''_{xx}(a,b)>0$ или $f''_{yy}(a,b)>0$ минимум, \n",
    "\n",
    "при $f''_{xx}(a,b)<0$ или $f''_{yy}(a,b)<0$ максимум\n",
    "\n",
    "2) если $\\Delta<0$, то у  функции $f(x,y)$ нет экстремума в точке $P$\n",
    "\n",
    "3) если $\\Delta=0$, то требуется дальнейшее исследование."
   ],
   "metadata": {
    "collapsed": false
   }
  },
  {
   "cell_type": "code",
   "execution_count": 3,
   "metadata": {
    "ExecuteTime": {
     "end_time": "2024-03-21T18:27:32.509297Z",
     "start_time": "2024-03-21T18:27:25.032163Z"
    }
   },
   "outputs": [
    {
     "data": {
      "text/plain": "<IPython.core.display.Latex object>",
      "text/latex": "$$1.\\ \\left\\{\\left( 1, \\  0\\right)\\right\\}$$"
     },
     "metadata": {},
     "output_type": "display_data"
    },
    {
     "data": {
      "text/plain": "<IPython.core.display.Latex object>",
      "text/latex": "$$2.\\ \\left\\{\\left( 3, \\  2\\right)\\right\\}$$"
     },
     "metadata": {},
     "output_type": "display_data"
    },
    {
     "data": {
      "text/plain": "<IPython.core.display.Latex object>",
      "text/latex": "$$3.\\ \\left\\{\\left( 4, \\  2\\right)\\right\\}$$"
     },
     "metadata": {},
     "output_type": "display_data"
    },
    {
     "data": {
      "text/plain": "<IPython.core.display.Latex object>",
      "text/latex": "$$4.\\ \\left\\{\\left( 1, \\  -1\\right)\\right\\}$$"
     },
     "metadata": {},
     "output_type": "display_data"
    }
   ],
   "source": [
    "EPS = 0.00000000001\n",
    "\n",
    "def non_ordinary_extremes(f, vars_intervals: list[sp.sets.sets] = None):\n",
    "    vars = sorted(list(f.atoms(Symbol)), key=lambda x: str(x))\n",
    "    if vars_intervals == None:\n",
    "        vars_intervals = [Interval.open(-sp.oo, +sp.oo) for i in range(len(vars))]\n",
    "        \n",
    "    stat_points = list(sp.solve((sp.Eq( f.diff(var), 0 ) for var in vars), tuple(vars), set=True))\n",
    "    delta = Matrix([[f.diff(vars[j], 2) if i == j else f.diff(vars[i]) for j in range(len(vars))] for i in range(len(vars))]).det()\n",
    "\n",
    "    res = set()\n",
    "    vecs_set = stat_points[1]\n",
    "    \n",
    "    for coords in vecs_set:\n",
    "        flag__is_real = True\n",
    "        for coord in coords:\n",
    "            if not coord.is_real:\n",
    "                flag__is_real = False\n",
    "                break\n",
    "                \n",
    "        flag__is_in_interval = True\n",
    "        if flag__is_real:\n",
    "            for i in range(len(vars)):\n",
    "                if coords[i] not in vars_intervals[i]:\n",
    "                    flag__is_in_interval = False\n",
    "                    break\n",
    "                \n",
    "        if flag__is_real:\n",
    "            if flag__is_in_interval:\n",
    "                subst_values = [(vars[i], coords[i]) for i in range(len(vars))]\n",
    "                subst = delta.subs(subst_values)\n",
    "                if type(subst) != sp.core.numbers.ComplexInfinity:\n",
    "                    if subst > 0:\n",
    "                        res.add(coords)\n",
    "                    # elif subst == 0:\n",
    "                        # # subst_eps_plus = [(vars[i], coords[i] + EPS) for i in range(len(vars))]\n",
    "                        # # subst_eps_minus = [(vars[i], coords[i] - EPS) for i in range(len(vars))]\n",
    "                        # # if f.subs(subst_plus) <= 0 and f.s\n",
    "                        # diffs_by_vars = [f.diff(var) for var in vars]\n",
    "                    else:\n",
    "                        continue\n",
    "    return res\n",
    "\n",
    "\n",
    "z_1 = x ** 2 + x * y + y ** 2 - 2 * x - y\n",
    "z_2 = x ** 3 * y ** 2 * (6 - x - y)\n",
    "z_3 = 8 / x + x / y + y\n",
    "z_4 = (1 + x - y) / (sp.sqrt(1 + x ** 2 + y ** 2))\n",
    "\n",
    "extremes_1 = non_ordinary_extremes(z_1)\n",
    "extremes_2 = non_ordinary_extremes(z_2, [Interval.open(0, sp.oo), Interval.open(0, sp.oo)])\n",
    "extremes_3 = non_ordinary_extremes(z_3)\n",
    "extremes_4 = non_ordinary_extremes(z_4)\n",
    "\n",
    "display(Latex(fr\"$$1.\\ {latex(extremes_1)}$$\"))\n",
    "display(Latex(fr\"$$2.\\ {latex(extremes_2)}$$\"))\n",
    "display(Latex(fr\"$$3.\\ {latex(extremes_3)}$$\"))\n",
    "display(Latex(fr\"$$4.\\ {latex(extremes_4)}$$\"))\n"
   ]
  },
  {
   "cell_type": "markdown",
   "metadata": {},
   "source": [
    "### Задание 2.\n",
    "С помощью метода Лагранжа найти условный экстремум функции\n",
    "$z = x + 2y$ при условии $x^2 + y^2 = 5$."
   ]
  },
  {
   "cell_type": "code",
   "execution_count": 4,
   "outputs": [
    {
     "data": {
      "text/plain": "<IPython.core.display.Latex object>",
      "text/latex": "$$\\text{Стационарные точки: } \\left\\{\\left( -1, \\  -2, \\  \\frac{1}{2}\\right), \\left( 1, \\  2, \\  - \\frac{1}{2}\\right)\\right\\}$$"
     },
     "metadata": {},
     "output_type": "display_data"
    },
    {
     "data": {
      "text/plain": "<IPython.core.display.Latex object>",
      "text/latex": "$$L = \\lambda \\left(x^{2} + y^{2} - 5\\right) + x + 2 y$$"
     },
     "metadata": {},
     "output_type": "display_data"
    },
    {
     "data": {
      "text/plain": "<IPython.core.display.Latex object>",
      "text/latex": "$$d(dL) = 2 \\lambda \\left(dx^{2} + dy^{2}\\right)$$"
     },
     "metadata": {},
     "output_type": "display_data"
    },
    {
     "data": {
      "text/plain": "<IPython.core.display.Latex object>",
      "text/latex": "$$\\qquad \\text{при $\\lambda$ > 0: второй дифференциал положительный} \\Rightarrow \\left( 2, \\  - \\frac{1}{2}\\right) - \\text{точка локального максимума}$$"
     },
     "metadata": {},
     "output_type": "display_data"
    },
    {
     "data": {
      "text/plain": "<IPython.core.display.Latex object>",
      "text/latex": "$$\\qquad \\text{при $\\lambda$ < 0 второй дифференциал отрицательный} \\Rightarrow \\left( -2, \\  \\frac{1}{2}\\right) - \\text{точка локального минимума}$$"
     },
     "metadata": {},
     "output_type": "display_data"
    }
   ],
   "source": [
    "vars = [x, y, varlambda]\n",
    "\n",
    "z = x + 2 * y\n",
    "L = z + varlambda * (x ** 2 + y ** 2 - 5)\n",
    "stat_points = nonlinsolve([L.diff(var) for var in vars], vars)\n",
    "\n",
    "d_vars = [(x, dx), (y, dy)]\n",
    "dL = sum([L.diff(var) * d_ for var, d_ in d_vars])\n",
    "ddL = sum([dL.diff(var) * d_ for var, d_ in d_vars])\n",
    "\n",
    "display(Latex(fr\"$$\\text{{Стационарные точки: }} {latex(stat_points)}$$\"))\n",
    "display(Latex(fr\"$$L = {latex(L)}$$\"))\n",
    "display(Latex(fr\"$$d(dL) = {latex(factor(ddL))}$$\"))\n",
    "list_stats = list(stat_points)\n",
    "display(Latex(\n",
    "    fr\"$$\\qquad \\text{{при $\\lambda$ > 0: второй дифференциал положительный}} \\Rightarrow {latex(list_stats[1][1:])} - \\text{{точка локального максимума}}$$\"))\n",
    "display(Latex(\n",
    "    fr\"$$\\qquad \\text{{при $\\lambda$ < 0 второй дифференциал отрицательный}} \\Rightarrow {latex(list_stats[0][1:])} - \\text{{точка локального минимума}}$$\"))"
   ],
   "metadata": {
    "collapsed": false,
    "ExecuteTime": {
     "end_time": "2024-03-21T18:27:33.153196Z",
     "start_time": "2024-03-21T18:27:32.528740Z"
    }
   }
  },
  {
   "cell_type": "markdown",
   "metadata": {},
   "source": [
    "### Задание 3.\n",
    "С помощью метода Лагранжа найти условный экстремум функции\n",
    "$z=x^2+y^2$ при условии $\\frac{x}{2}+\\frac{y}{3}=1$."
   ]
  },
  {
   "cell_type": "code",
   "execution_count": 5,
   "metadata": {
    "ExecuteTime": {
     "end_time": "2024-03-21T18:27:34.029336Z",
     "start_time": "2024-03-21T18:27:33.102285Z"
    }
   },
   "outputs": [
    {
     "data": {
      "text/plain": "<IPython.core.display.Latex object>",
      "text/latex": "$$\\text{Стационарные точки: } \\left\\{\\left( \\frac{18}{13}, \\  \\frac{12}{13}, \\  - \\frac{72}{13}\\right)\\right\\}$$"
     },
     "metadata": {},
     "output_type": "display_data"
    },
    {
     "data": {
      "text/plain": "<IPython.core.display.Latex object>",
      "text/latex": "$$L = \\lambda \\left(\\frac{x}{2} + \\frac{y}{3} - 1\\right) + x^{2} + y^{2}$$"
     },
     "metadata": {},
     "output_type": "display_data"
    },
    {
     "data": {
      "text/plain": "<IPython.core.display.Latex object>",
      "text/latex": "$$d(dL) = 2 \\left(dx^{2} + dy^{2}\\right)$$"
     },
     "metadata": {},
     "output_type": "display_data"
    },
    {
     "data": {
      "text/plain": "<IPython.core.display.Latex object>",
      "text/latex": "$$\\qquad \\text{Видно, что второй дифференциал всегда положительный вне зависимости от $\\lambda$} \\Rightarrow \\left( \\frac{18}{13}, \\  \\frac{12}{13}, \\  - \\frac{72}{13}\\right) - \\text{точка локального максимума}$$"
     },
     "metadata": {},
     "output_type": "display_data"
    }
   ],
   "source": [
    "vars = [x, y, varlambda]\n",
    "\n",
    "z = x ** 2 + y ** 2\n",
    "L = z + varlambda * (x / 2 + y / 3 - 1)\n",
    "stat_points = nonlinsolve([L.diff(var) for var in vars], vars)\n",
    "\n",
    "d_vars = [(x, dx), (y, dy)]\n",
    "dL = sum([L.diff(var) * d_ for var, d_ in d_vars])\n",
    "ddL = sum([dL.diff(var) * d_ for var, d_ in d_vars])\n",
    "\n",
    "display(Latex(fr\"$$\\text{{Стационарные точки: }} {latex(stat_points)}$$\"))\n",
    "display(Latex(fr\"$$L = {latex(L)}$$\"))\n",
    "display(Latex(fr\"$$d(dL) = {latex(factor(ddL))}$$\"))\n",
    "list_stats = list(stat_points)\n",
    "display(Latex(\n",
    "    fr\"$$\\qquad \\text{{Видно, что второй дифференциал всегда положительный вне зависимости от $\\lambda$}} \\Rightarrow {latex(*list_stats)} - \\text{{точка локального максимума}}$$\"))"
   ]
  },
  {
   "cell_type": "markdown",
   "metadata": {},
   "source": [
    "### Задание 4.\n",
    "С помощью метода Лагранжа найти экстремум функции $u = x - 2y + 2z$ при условии $x^2 + y^2 + z^2 = 9$."
   ]
  },
  {
   "cell_type": "code",
   "execution_count": 7,
   "metadata": {
    "ExecuteTime": {
     "end_time": "2024-03-21T18:28:59.011985Z",
     "start_time": "2024-03-21T18:28:58.288160Z"
    }
   },
   "outputs": [
    {
     "ename": "ValueError",
     "evalue": "\nCan't calculate derivative wrt x**2 + y**2.",
     "output_type": "error",
     "traceback": [
      "\u001B[0;31m---------------------------------------------------------------------------\u001B[0m",
      "\u001B[0;31mValueError\u001B[0m                                Traceback (most recent call last)",
      "Cell \u001B[0;32mIn[7], line 4\u001B[0m\n\u001B[1;32m      2\u001B[0m u \u001B[38;5;241m=\u001B[39m x \u001B[38;5;241m-\u001B[39m \u001B[38;5;241m2\u001B[39m \u001B[38;5;241m*\u001B[39m y \u001B[38;5;241m+\u001B[39m \u001B[38;5;241m2\u001B[39m \u001B[38;5;241m*\u001B[39m z\n\u001B[1;32m      3\u001B[0m L \u001B[38;5;241m=\u001B[39m u \u001B[38;5;241m+\u001B[39m varlambda \u001B[38;5;241m*\u001B[39m (x \u001B[38;5;241m*\u001B[39m\u001B[38;5;241m*\u001B[39m \u001B[38;5;241m2\u001B[39m \u001B[38;5;241m+\u001B[39m y \u001B[38;5;241m*\u001B[39m\u001B[38;5;241m*\u001B[39m \u001B[38;5;241m2\u001B[39m \u001B[38;5;241m+\u001B[39m z \u001B[38;5;241m*\u001B[39m\u001B[38;5;241m*\u001B[39m \u001B[38;5;241m2\u001B[39m \u001B[38;5;241m-\u001B[39m \u001B[38;5;241m9\u001B[39m)\n\u001B[0;32m----> 4\u001B[0m stat_points \u001B[38;5;241m=\u001B[39m nonlinsolve([L\u001B[38;5;241m.\u001B[39mdiff(var)\u001B[38;5;241m.\u001B[39msimplify() \u001B[38;5;28;01mfor\u001B[39;00m var \u001B[38;5;129;01min\u001B[39;00m \u001B[38;5;28mvars\u001B[39m], \u001B[38;5;28mvars\u001B[39m)\n\u001B[1;32m      6\u001B[0m d_vars \u001B[38;5;241m=\u001B[39m [(x, dx), (y, dy), (z, dz)]\n\u001B[1;32m      7\u001B[0m dL \u001B[38;5;241m=\u001B[39m \u001B[38;5;28msum\u001B[39m([L\u001B[38;5;241m.\u001B[39mdiff(var) \u001B[38;5;241m*\u001B[39m d_ \u001B[38;5;28;01mfor\u001B[39;00m var, d_ \u001B[38;5;129;01min\u001B[39;00m d_vars])\n",
      "Cell \u001B[0;32mIn[7], line 4\u001B[0m, in \u001B[0;36m<listcomp>\u001B[0;34m(.0)\u001B[0m\n\u001B[1;32m      2\u001B[0m u \u001B[38;5;241m=\u001B[39m x \u001B[38;5;241m-\u001B[39m \u001B[38;5;241m2\u001B[39m \u001B[38;5;241m*\u001B[39m y \u001B[38;5;241m+\u001B[39m \u001B[38;5;241m2\u001B[39m \u001B[38;5;241m*\u001B[39m z\n\u001B[1;32m      3\u001B[0m L \u001B[38;5;241m=\u001B[39m u \u001B[38;5;241m+\u001B[39m varlambda \u001B[38;5;241m*\u001B[39m (x \u001B[38;5;241m*\u001B[39m\u001B[38;5;241m*\u001B[39m \u001B[38;5;241m2\u001B[39m \u001B[38;5;241m+\u001B[39m y \u001B[38;5;241m*\u001B[39m\u001B[38;5;241m*\u001B[39m \u001B[38;5;241m2\u001B[39m \u001B[38;5;241m+\u001B[39m z \u001B[38;5;241m*\u001B[39m\u001B[38;5;241m*\u001B[39m \u001B[38;5;241m2\u001B[39m \u001B[38;5;241m-\u001B[39m \u001B[38;5;241m9\u001B[39m)\n\u001B[0;32m----> 4\u001B[0m stat_points \u001B[38;5;241m=\u001B[39m nonlinsolve([L\u001B[38;5;241m.\u001B[39mdiff(var)\u001B[38;5;241m.\u001B[39msimplify() \u001B[38;5;28;01mfor\u001B[39;00m var \u001B[38;5;129;01min\u001B[39;00m \u001B[38;5;28mvars\u001B[39m], \u001B[38;5;28mvars\u001B[39m)\n\u001B[1;32m      6\u001B[0m d_vars \u001B[38;5;241m=\u001B[39m [(x, dx), (y, dy), (z, dz)]\n\u001B[1;32m      7\u001B[0m dL \u001B[38;5;241m=\u001B[39m \u001B[38;5;28msum\u001B[39m([L\u001B[38;5;241m.\u001B[39mdiff(var) \u001B[38;5;241m*\u001B[39m d_ \u001B[38;5;28;01mfor\u001B[39;00m var, d_ \u001B[38;5;129;01min\u001B[39;00m d_vars])\n",
      "File \u001B[0;32m~/.conda/envs/CompPracs/lib/python3.11/site-packages/sympy/core/expr.py:3586\u001B[0m, in \u001B[0;36mExpr.diff\u001B[0;34m(self, *symbols, **assumptions)\u001B[0m\n\u001B[1;32m   3584\u001B[0m \u001B[38;5;28;01mdef\u001B[39;00m \u001B[38;5;21mdiff\u001B[39m(\u001B[38;5;28mself\u001B[39m, \u001B[38;5;241m*\u001B[39msymbols, \u001B[38;5;241m*\u001B[39m\u001B[38;5;241m*\u001B[39massumptions):\n\u001B[1;32m   3585\u001B[0m     assumptions\u001B[38;5;241m.\u001B[39msetdefault(\u001B[38;5;124m\"\u001B[39m\u001B[38;5;124mevaluate\u001B[39m\u001B[38;5;124m\"\u001B[39m, \u001B[38;5;28;01mTrue\u001B[39;00m)\n\u001B[0;32m-> 3586\u001B[0m     \u001B[38;5;28;01mreturn\u001B[39;00m _derivative_dispatch(\u001B[38;5;28mself\u001B[39m, \u001B[38;5;241m*\u001B[39msymbols, \u001B[38;5;241m*\u001B[39m\u001B[38;5;241m*\u001B[39massumptions)\n",
      "File \u001B[0;32m~/.conda/envs/CompPracs/lib/python3.11/site-packages/sympy/core/function.py:1909\u001B[0m, in \u001B[0;36m_derivative_dispatch\u001B[0;34m(expr, *variables, **kwargs)\u001B[0m\n\u001B[1;32m   1907\u001B[0m     \u001B[38;5;28;01mfrom\u001B[39;00m \u001B[38;5;21;01msympy\u001B[39;00m\u001B[38;5;21;01m.\u001B[39;00m\u001B[38;5;21;01mtensor\u001B[39;00m\u001B[38;5;21;01m.\u001B[39;00m\u001B[38;5;21;01marray\u001B[39;00m\u001B[38;5;21;01m.\u001B[39;00m\u001B[38;5;21;01marray_derivatives\u001B[39;00m \u001B[38;5;28;01mimport\u001B[39;00m ArrayDerivative\n\u001B[1;32m   1908\u001B[0m     \u001B[38;5;28;01mreturn\u001B[39;00m ArrayDerivative(expr, \u001B[38;5;241m*\u001B[39mvariables, \u001B[38;5;241m*\u001B[39m\u001B[38;5;241m*\u001B[39mkwargs)\n\u001B[0;32m-> 1909\u001B[0m \u001B[38;5;28;01mreturn\u001B[39;00m Derivative(expr, \u001B[38;5;241m*\u001B[39mvariables, \u001B[38;5;241m*\u001B[39m\u001B[38;5;241m*\u001B[39mkwargs)\n",
      "File \u001B[0;32m~/.conda/envs/CompPracs/lib/python3.11/site-packages/sympy/core/function.py:1334\u001B[0m, in \u001B[0;36mDerivative.__new__\u001B[0;34m(cls, expr, *variables, **kwargs)\u001B[0m\n\u001B[1;32m   1332\u001B[0m     \u001B[38;5;28;01mif\u001B[39;00m \u001B[38;5;129;01mnot\u001B[39;00m v\u001B[38;5;241m.\u001B[39m_diff_wrt:\n\u001B[1;32m   1333\u001B[0m         __ \u001B[38;5;241m=\u001B[39m \u001B[38;5;124m'\u001B[39m\u001B[38;5;124m'\u001B[39m  \u001B[38;5;66;03m# filler to make error message neater\u001B[39;00m\n\u001B[0;32m-> 1334\u001B[0m         \u001B[38;5;28;01mraise\u001B[39;00m \u001B[38;5;167;01mValueError\u001B[39;00m(filldedent(\u001B[38;5;124m'''\u001B[39m\n\u001B[1;32m   1335\u001B[0m \u001B[38;5;124m            Can\u001B[39m\u001B[38;5;124m'\u001B[39m\u001B[38;5;124mt calculate derivative wrt \u001B[39m\u001B[38;5;132;01m%s\u001B[39;00m\u001B[38;5;124m.\u001B[39m\u001B[38;5;132;01m%s\u001B[39;00m\u001B[38;5;124m'''\u001B[39m \u001B[38;5;241m%\u001B[39m (v,\n\u001B[1;32m   1336\u001B[0m             __)))\n\u001B[1;32m   1338\u001B[0m \u001B[38;5;66;03m# We make a special case for 0th derivative, because there is no\u001B[39;00m\n\u001B[1;32m   1339\u001B[0m \u001B[38;5;66;03m# good way to unambiguously print this.\u001B[39;00m\n\u001B[1;32m   1340\u001B[0m \u001B[38;5;28;01mif\u001B[39;00m \u001B[38;5;28mlen\u001B[39m(variable_count) \u001B[38;5;241m==\u001B[39m \u001B[38;5;241m0\u001B[39m:\n",
      "\u001B[0;31mValueError\u001B[0m: \nCan't calculate derivative wrt x**2 + y**2."
     ]
    }
   ],
   "source": [
    "vars = [x, y, z, varlambda]\n",
    "u = x - 2 * y + 2 * z\n",
    "L = u + varlambda * (x ** 2 + y ** 2 + z ** 2 - 9)\n",
    "stat_points = nonlinsolve([L.diff(var) for var in vars], vars)\n",
    "\n",
    "d_vars = [(x, dx), (y, dy), (z, dz)]\n",
    "dL = sum([L.diff(var) * d_ for var, d_ in d_vars])\n",
    "ddL = sum([dL.diff(var) * d_ for var, d_ in d_vars])\n",
    "\n",
    "display(Latex(fr\"$$\\text{{Стационарные точки: }} {latex(stat_points)}$$\"))\n",
    "display(Latex(fr\"$$L = {latex(L)}$$\"))\n",
    "display(Latex(fr\"$$d(dL) = {latex(factor(ddL))}$$\"))\n",
    "list_stats = list(stat_points)\n",
    "display(Latex(\n",
    "    fr\"$\\qquad \\text{{$\\lambda > 0: второй\\ дифференциал\\ положительный$}} \\Rightarrow {latex(list_stats[1][:-1])} - \\text{{точка максимума}}$\"))\n",
    "display(Latex(\n",
    "    fr\"$\\qquad \\text{{$\\lambda > 0: второй\\ дифференциал\\ положительный$}} \\Rightarrow {latex(list_stats[0][:-1])} - \\text{{точка минимума}}$\"))"
   ]
  },
  {
   "cell_type": "markdown",
   "metadata": {},
   "source": [
    "### Индивидуальное задание\n",
    "Найти точки экстремума $u = x^2 + y^2 + z^2 - xy + x - 2z$."
   ]
  },
  {
   "cell_type": "markdown",
   "source": [
    "Вариант $98$\n",
    "\\begin{align*}\n",
    "    f(x, y, z) = - 15 x^{2} + 8 x y + 7 x z + 17 x + 5 y^{2} - 8 y z - 7 y - 14 z^{2} - 14 z\n",
    "\\end{align*}"
   ],
   "metadata": {
    "collapsed": false
   }
  },
  {
   "cell_type": "code",
   "execution_count": null,
   "metadata": {
    "ExecuteTime": {
     "start_time": "2024-03-21T18:27:37.426222Z"
    }
   },
   "outputs": [],
   "source": [
    "u = -15 * x ** 2 + 8 * x * y + 7 * x * z + 17 * x + 5 * y ** 2 - 8 * y * z - 7 * y - 14 * z ** 2 - 14 * z\n",
    "\n",
    "extremes_u = non_ordinary_extremes(u)\n",
    "display(Latex(fr\"$${latex(extremes_u)}$$\"))\n"
   ]
  }
 ],
 "metadata": {
  "kernelspec": {
   "display_name": "Python 3",
   "language": "python",
   "name": "python3"
  },
  "language_info": {
   "codemirror_mode": {
    "name": "ipython",
    "version": 3
   },
   "file_extension": ".py",
   "mimetype": "text/x-python",
   "name": "python",
   "nbconvert_exporter": "python",
   "pygments_lexer": "ipython3",
   "version": "3.7.3"
  }
 },
 "nbformat": 4,
 "nbformat_minor": 2
}
